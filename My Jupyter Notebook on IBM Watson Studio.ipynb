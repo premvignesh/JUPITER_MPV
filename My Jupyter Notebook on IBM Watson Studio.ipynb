{
 "cells": [
  {
   "cell_type": "markdown",
   "id": "d005d06b",
   "metadata": {},
   "source": [
    "# My Jupyter Notebook on IBM Watson Studio"
   ]
  },
  {
   "cell_type": "markdown",
   "id": "1fa047f1",
   "metadata": {},
   "source": [
    "**Madhu Premvignesh** <br>\n",
    "An IT Employee"
   ]
  },
  {
   "cell_type": "markdown",
   "id": "338dc1c6",
   "metadata": {},
   "source": [
    "*I am interested in Data Science because it solves many real world problems. It also plays an important role in making informed bussiness decisions*"
   ]
  },
  {
   "cell_type": "markdown",
   "id": "dc37d9c2",
   "metadata": {},
   "source": [
    "### My code prints the first 10 Natural Numbers"
   ]
  },
  {
   "cell_type": "code",
   "execution_count": 1,
   "id": "ac0b7eae",
   "metadata": {},
   "outputs": [
    {
     "name": "stdout",
     "output_type": "stream",
     "text": [
      "1 2 3 4 5 6 7 8 9 10 "
     ]
    }
   ],
   "source": [
    "for i in range(1,11):\n",
    "    print(i,end=\" \")"
   ]
  },
  {
   "cell_type": "markdown",
   "id": "e91562d7",
   "metadata": {},
   "source": [
    "<hr/>\n",
    "We have completed 2 courses in IBM Data Science specialization till now<br>\n",
    "* What is Data Science? <br>\n",
    "* Tools for Data Science <br>\n",
    "<hr/>\n",
    "The next two courses are  <br>\n",
    "1. Data Science Methodology<br>\n",
    "2. Python for Data Science, AI & Development<br>\n",
    "\n",
    "The following two courses are \n",
    "\n",
    "\n",
    "| No | Name of the course |\n",
    "| --- | --- |\n",
    "| 5 | Python Project for Data Science |\n",
    "| 6 | Databases and SQL for Data Science with Python |\n",
    "\n",
    "> This is the link for the <mark> IBM Data Science </mark> Course [COURSE](https://www.coursera.org/professional-certificates/ibm-data-science)\n"
   ]
  }
 ],
 "metadata": {
  "kernelspec": {
   "display_name": "Python 3 (ipykernel)",
   "language": "python",
   "name": "python3"
  },
  "language_info": {
   "codemirror_mode": {
    "name": "ipython",
    "version": 3
   },
   "file_extension": ".py",
   "mimetype": "text/x-python",
   "name": "python",
   "nbconvert_exporter": "python",
   "pygments_lexer": "ipython3",
   "version": "3.9.12"
  }
 },
 "nbformat": 4,
 "nbformat_minor": 5
}
